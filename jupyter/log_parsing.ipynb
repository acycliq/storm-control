{
 "cells": [
  {
   "cell_type": "markdown",
   "metadata": {},
   "source": [
    "## This notebook demonstrates how to parse HAL logs"
   ]
  },
  {
   "cell_type": "code",
   "execution_count": null,
   "metadata": {},
   "outputs": [],
   "source": [
    "import os\n",
    "\n",
    "import storm_control.sc_library.log_timing as logTiming\n",
    "\n",
    "os.chdir(\"/home/hbabcock/Data/storm_control/logs/\")\n",
    "print(os.getcwd())\n"
   ]
  },
  {
   "cell_type": "code",
   "execution_count": null,
   "metadata": {},
   "outputs": [],
   "source": [
    "# Note that the no extensions are included in the log name.\n",
    "all_msgs = logTiming.logTiming(\"hal4000_4\")"
   ]
  },
  {
   "cell_type": "markdown",
   "metadata": {},
   "source": [
    "### How much total time?"
   ]
  },
  {
   "cell_type": "code",
   "execution_count": null,
   "metadata": {},
   "outputs": [],
   "source": [
    "print(\"{0:.3f} seconds\".format(logTiming.processingTime(all_msgs)))"
   ]
  },
  {
   "cell_type": "markdown",
   "metadata": {},
   "source": [
    "### How much time was spent on TCP message?"
   ]
  },
  {
   "cell_type": "code",
   "execution_count": null,
   "metadata": {},
   "outputs": [],
   "source": [
    "msgs = logTiming.groupBySource(all_msgs)[\"tcp_control\"]\n",
    "print(\"{0:.3f} total seconds\".format(logTiming.processingTime(msgs)))\n",
    "print()\n",
    "\n",
    "grp = logTiming.groupByMsgType(msgs)\n",
    "for key in sorted(grp):\n",
    "    tmp = grp[key]\n",
    "    print(\"'\" + key + \"', {0:0d} counts, {1:.3f} seconds\".format(len(tmp), logTiming.processingTime(tmp)))\n",
    "    "
   ]
  },
  {
   "cell_type": "markdown",
   "metadata": {},
   "source": [
    "### Much time was spend on film messages?"
   ]
  },
  {
   "cell_type": "code",
   "execution_count": null,
   "metadata": {},
   "outputs": [],
   "source": [
    "msgs = logTiming.groupBySource(all_msgs)[\"film\"]\n",
    "print(\"{0:.3f} total seconds\".format(logTiming.processingTime(msgs)))\n",
    "print()\n",
    "\n",
    "grp = logTiming.groupByMsgType(msgs)\n",
    "for key in sorted(grp):\n",
    "    tmp = grp[key]\n",
    "    print(\"'\" + key + \"', {0:0d} counts, {1:.3f} seconds\".format(len(tmp), logTiming.processingTime(tmp)))\n",
    "    "
   ]
  },
  {
   "cell_type": "markdown",
   "metadata": {},
   "source": [
    "### How much time was spent on each message?"
   ]
  },
  {
   "cell_type": "code",
   "execution_count": null,
   "metadata": {},
   "outputs": [],
   "source": [
    "grp = logTiming.groupByMsgType(all_msgs)\n",
    "for key in sorted(grp):\n",
    "    tmp = grp[key]\n",
    "    print(\"'\" + key + \"', {0:0d} counts, {1:.3f} seconds\".format(len(tmp), logTiming.processingTime(tmp)))\n",
    "    "
   ]
  },
  {
   "cell_type": "markdown",
   "metadata": {},
   "source": [
    "### How much time was spent filming?"
   ]
  },
  {
   "cell_type": "code",
   "execution_count": null,
   "metadata": {},
   "outputs": [],
   "source": [
    "# Get the 'film lockout' messages.\n",
    "fl = logTiming.groupByMsgType(all_msgs)[\"film lockout\"]\n",
    "\n",
    "# Sort by starting time, reversed.\n",
    "fl = sorted(fl, key = lambda x: x.getCreatedTime(), reverse = True)\n",
    "\n",
    "# We assume that the last 'film lockout' message was at the end of a film.\n",
    "total_x = 0\n",
    "total_time = 0.0\n",
    "for i in range(0, len(fl), 2):\n",
    "    if ((i+1)==len(fl)):\n",
    "        continue\n",
    "    total_x += 1\n",
    "    total_time += fl[i].getCreatedTime() - fl[i+1].getCreatedTime()\n",
    "    \n",
    "print(\"{0:0d} films, {1:.3f} sec/film\".format(total_x, total_time/total_x))"
   ]
  },
  {
   "cell_type": "markdown",
   "metadata": {},
   "source": [
    "### How much dead time between films?"
   ]
  },
  {
   "cell_type": "code",
   "execution_count": null,
   "metadata": {},
   "outputs": [],
   "source": [
    "# Get the 'film lockout' messages.\n",
    "fl = logTiming.groupByMsgType(all_msgs)[\"film lockout\"]\n",
    "\n",
    "# Sort by starting time, reversed.\n",
    "fl = sorted(fl, key = lambda x: x.getCreatedTime(), reverse = True)\n",
    "\n",
    "# We assume that the last 'film lockout' message was at the end of a film.\n",
    "total_x = 0\n",
    "total_time = 0.0\n",
    "for i in range(1, len(fl), 2):\n",
    "    if ((i+1)==len(fl)):\n",
    "        continue    \n",
    "    total_x += 1\n",
    "    total_time += fl[i].getCreatedTime() - fl[i+1].getCreatedTime()\n",
    "    \n",
    "print(\"{0:0d} breaks, {1:.3f} sec/break\".format(total_x, total_time/total_x))"
   ]
  },
  {
   "cell_type": "code",
   "execution_count": null,
   "metadata": {},
   "outputs": [],
   "source": []
  }
 ],
 "metadata": {
  "kernelspec": {
   "display_name": "Python 3",
   "language": "python",
   "name": "python3"
  },
  "language_info": {
   "codemirror_mode": {
    "name": "ipython",
    "version": 3
   },
   "file_extension": ".py",
   "mimetype": "text/x-python",
   "name": "python",
   "nbconvert_exporter": "python",
   "pygments_lexer": "ipython3",
   "version": "3.6.5"
  }
 },
 "nbformat": 4,
 "nbformat_minor": 2
}
